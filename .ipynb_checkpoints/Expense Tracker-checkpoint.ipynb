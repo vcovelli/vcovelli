{
 "cells": [
  {
   "cell_type": "code",
   "execution_count": 2,
   "id": "ec9fc5f9",
   "metadata": {
    "scrolled": false
   },
   "outputs": [
    {
     "data": {
      "image/png": "[encoded data removed]",
      "text/plain": [
       "<Figure size 576x360 with 1 Axes>"
      ]
     },
     "metadata": {
      "needs_background": "light"
     },
     "output_type": "display_data"
    }
   ],
   "source": [
    "# Import necessary libraries\n",
    "import pandas as pd\n",
    "import matplotlib.pyplot as plt\n",
    "from datetime import datetime\n",
    "from IPython.display import display, clear_output\n",
    "import ipywidgets as widgets\n",
    "\n",
    "# Sample expense data with entries spanning multiple months\n",
    "expenses = [\n",
    "    {\"date\": \"2024-10-01\", \"category\": \"Food\", \"amount\": 15.50},\n",
    "    {\"date\": \"2024-10-03\", \"category\": \"Entertainment\", \"amount\": 25.00},\n",
    "    {\"date\": \"2024-10-05\", \"category\": \"Rent\", \"amount\": 500.00},\n",
    "    {\"date\": \"2024-10-07\", \"category\": \"Food\", \"amount\": 12.00},\n",
    "    {\"date\": \"2024-11-01\", \"category\": \"Food\", \"amount\": 20.50},\n",
    "    {\"date\": \"2024-11-03\", \"category\": \"Entertainment\", \"amount\": 30.00},\n",
    "    {\"date\": \"2024-11-05\", \"category\": \"Rent\", \"amount\": 500.00},\n",
    "    {\"date\": \"2024-11-07\", \"category\": \"Food\", \"amount\": 18.00},\n",
    "    {\"date\": \"2024-12-01\", \"category\": \"Food\", \"amount\": 22.00},\n",
    "    {\"date\": \"2024-12-03\", \"category\": \"Entertainment\", \"amount\": 40.00},\n",
    "    {\"date\": \"2024-12-05\", \"category\": \"Rent\", \"amount\": 500.00},\n",
    "    {\"date\": \"2024-12-07\", \"category\": \"Food\", \"amount\": 15.00},\n",
    "]\n",
    "\n",
    "# Convert to DataFrame for easier manipulation\n",
    "df_expenses = pd.DataFrame(expenses)\n",
    "df_expenses[\"date\"] = pd.to_datetime(df_expenses[\"date\"])\n",
    "\n",
    "# Function to add a new expense entry\n",
    "def add_expense(date, category, amount):\n",
    "    global df_expenses\n",
    "    # Convert date from MM-DD-YYYY format\n",
    "    date_formatted = datetime.strptime(date, \"%m-%d-%Y\")\n",
    "    new_expense = pd.DataFrame({\"date\": [date_formatted], \"category\": [category], \"amount\": [amount]})\n",
    "    df_expenses = pd.concat([df_expenses, new_expense], ignore_index=True)\n",
    "    output_text.value = \"Expense added successfully!\"\n",
    "\n",
    "# Widgets for interactive inputs\n",
    "date_widget = widgets.Text(value='10-27-2024', description='Date (MM-DD-YYYY):')\n",
    "category_widget = widgets.Text(value='Entertainment', description='Category:')\n",
    "amount_widget = widgets.FloatText(value=100.0, description='Amount:')\n",
    "add_button = widgets.Button(description=\"Add Expense\")\n",
    "output_text = widgets.HTML()\n",
    "\n",
    "# Function to call `add_expense` on button click\n",
    "def on_add_button_clicked(b):\n",
    "    add_expense(date_widget.value, category_widget.value, amount_widget.value)\n",
    "\n",
    "add_button.on_click(on_add_button_clicked)\n",
    "\n",
    "# Display Category Totals with Plot\n",
    "def display_category_totals():\n",
    "    clear_output(wait=True)  # Clears previous output\n",
    "    category_totals = df_expenses.groupby(\"category\")[\"amount\"].sum()\n",
    "    output_text.value = f\"<b>Total expenses by category:</b><br>{category_totals.to_frame().to_html()}\"\n",
    "    plt.figure(figsize=(8, 5))\n",
    "    category_totals.plot(kind=\"bar\", title=\"Total Expenses by Category\", ylabel=\"Amount ($)\")\n",
    "    plt.show()\n",
    "\n",
    "# Display Monthly Totals with Plot\n",
    "def display_monthly_totals():\n",
    "    clear_output(wait=True)  # Clears previous output\n",
    "    df_expenses[\"month\"] = df_expenses[\"date\"].dt.to_period(\"M\")\n",
    "    monthly_totals = df_expenses.groupby(\"month\")[\"amount\"].sum()\n",
    "    output_text.value = f\"<b>Monthly expenses:</b><br>{monthly_totals.to_frame().to_html()}\"\n",
    "    plt.figure(figsize=(8, 5))\n",
    "    monthly_totals.plot(kind=\"line\", title=\"Monthly Expenses\", ylabel=\"Amount ($)\", xlabel=\"Month\")\n",
    "    plt.ylim(0, monthly_totals.max() + 100)  # Adds a little buffer above the max value\n",
    "    plt.show()\n",
    "\n",
    "# Buttons to display summaries\n",
    "category_button = widgets.Button(description=\"Show Category Totals\")\n",
    "monthly_button = widgets.Button(description=\"Show Monthly Totals\")\n",
    "\n",
    "category_button.on_click(lambda b: display_category_totals())\n",
    "monthly_button.on_click(lambda b: display_monthly_totals())\n",
    "\n",
    "# Layout the widgets\n",
    "display(date_widget, category_widget, amount_widget, add_button, category_button, monthly_button, output_text)\n"
   ]
  },
  {
   "cell_type": "code",
   "execution_count": 3,
   "id": "fef9c377",
   "metadata": {
    "scrolled": true
   },
   "outputs": [
    {
     "ename": "TypeError",
     "evalue": "add_expense() missing 3 required positional arguments: 'date', 'category', and 'amount'",
     "output_type": "error",
     "traceback": [
      "\u001b[0;31m---------------------------------------------------------------------------\u001b[0m",
      "\u001b[0;31mTypeError\u001b[0m                                 Traceback (most recent call last)",
      "\u001b[0;32m/tmp/ipykernel_5843/1588493457.py\u001b[0m in \u001b[0;36m<module>\u001b[0;34m\u001b[0m\n\u001b[0;32m----> 1\u001b[0;31m \u001b[0madd_expense\u001b[0m\u001b[0;34m(\u001b[0m\u001b[0;34m)\u001b[0m\u001b[0;34m\u001b[0m\u001b[0;34m\u001b[0m\u001b[0m\n\u001b[0m",
      "\u001b[0;31mTypeError\u001b[0m: add_expense() missing 3 required positional arguments: 'date', 'category', and 'amount'"
     ]
    }
   ],
   "source": [
    "add_expense()"
   ]
  },
  {
   "cell_type": "code",
   "execution_count": null,
   "id": "7cbf0a17",
   "metadata": {},
   "outputs": [],
   "source": []
  }
 ],
 "metadata": {
  "kernelspec": {
   "display_name": "Python 3 (ipykernel)",
   "language": "python",
   "name": "python3"
  },
  "language_info": {
   "codemirror_mode": {
    "name": "ipython",
    "version": 3
   },
   "file_extension": ".py",
   "mimetype": "text/x-python",
   "name": "python",
   "nbconvert_exporter": "python",
   "pygments_lexer": "ipython3",
   "version": "3.10.12"
  }
 },
 "nbformat": 4,
 "nbformat_minor": 5
}
